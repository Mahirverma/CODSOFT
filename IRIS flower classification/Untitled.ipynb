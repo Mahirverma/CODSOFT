{
 "cells": [
  {
   "cell_type": "markdown",
   "id": "422de80b",
   "metadata": {},
   "source": [
    "<h1> Imports</h1>"
   ]
  },
  {
   "cell_type": "code",
   "execution_count": 1,
   "id": "339a2c6e",
   "metadata": {
    "scrolled": true
   },
   "outputs": [],
   "source": [
    "import numpy as np\n",
    "import pandas as pd\n",
    "from keras.utils import to_categorical\n",
    "from sklearn.model_selection import train_test_split\n",
    "from sklearn.preprocessing import MinMaxScaler\n",
    "from keras.models import Sequential\n",
    "from keras.layers import Dense\n",
    "from keras.models import load_model\n",
    "from sklearn.metrics import accuracy_score"
   ]
  },
  {
   "cell_type": "code",
   "execution_count": 2,
   "id": "096ce78c",
   "metadata": {},
   "outputs": [],
   "source": [
    "df=pd.read_csv('IRIS.csv')\n",
    "data=df[['sepal_length','sepal_width','petal_length','petal_width']]\n",
    "target=df['species']"
   ]
  },
  {
   "cell_type": "code",
   "execution_count": 3,
   "id": "2570e9a1",
   "metadata": {},
   "outputs": [
    {
     "data": {
      "text/plain": [
       "pandas.core.series.Series"
      ]
     },
     "execution_count": 3,
     "metadata": {},
     "output_type": "execute_result"
    }
   ],
   "source": [
    "type(target)"
   ]
  },
  {
   "cell_type": "code",
   "execution_count": 4,
   "id": "ac37073e",
   "metadata": {},
   "outputs": [],
   "source": [
    "mapping={'Iris-setosa':0,'Iris-versicolor':1,'Iris-virginica':2}\n",
    "target=target.map(mapping)"
   ]
  },
  {
   "cell_type": "code",
   "execution_count": 6,
   "id": "ff3cc7f4",
   "metadata": {},
   "outputs": [],
   "source": [
    "x = data\n",
    "y = target"
   ]
  },
  {
   "cell_type": "code",
   "execution_count": 7,
   "id": "c18abf94",
   "metadata": {},
   "outputs": [],
   "source": [
    "y = to_categorical(y)"
   ]
  },
  {
   "cell_type": "code",
   "execution_count": 15,
   "id": "8bfd5a25",
   "metadata": {},
   "outputs": [
    {
     "data": {
      "text/plain": [
       "array([[1., 0., 0.],\n",
       "       [1., 0., 0.],\n",
       "       [1., 0., 0.],\n",
       "       [1., 0., 0.],\n",
       "       [1., 0., 0.],\n",
       "       [1., 0., 0.],\n",
       "       [1., 0., 0.],\n",
       "       [1., 0., 0.],\n",
       "       [1., 0., 0.],\n",
       "       [1., 0., 0.],\n",
       "       [1., 0., 0.],\n",
       "       [1., 0., 0.],\n",
       "       [1., 0., 0.],\n",
       "       [1., 0., 0.],\n",
       "       [1., 0., 0.],\n",
       "       [1., 0., 0.],\n",
       "       [1., 0., 0.],\n",
       "       [1., 0., 0.],\n",
       "       [1., 0., 0.],\n",
       "       [1., 0., 0.],\n",
       "       [1., 0., 0.],\n",
       "       [1., 0., 0.],\n",
       "       [1., 0., 0.],\n",
       "       [1., 0., 0.],\n",
       "       [1., 0., 0.],\n",
       "       [1., 0., 0.],\n",
       "       [1., 0., 0.],\n",
       "       [1., 0., 0.],\n",
       "       [1., 0., 0.],\n",
       "       [1., 0., 0.],\n",
       "       [1., 0., 0.],\n",
       "       [1., 0., 0.],\n",
       "       [1., 0., 0.],\n",
       "       [1., 0., 0.],\n",
       "       [1., 0., 0.],\n",
       "       [1., 0., 0.],\n",
       "       [1., 0., 0.],\n",
       "       [1., 0., 0.],\n",
       "       [1., 0., 0.],\n",
       "       [1., 0., 0.],\n",
       "       [1., 0., 0.],\n",
       "       [1., 0., 0.],\n",
       "       [1., 0., 0.],\n",
       "       [1., 0., 0.],\n",
       "       [1., 0., 0.],\n",
       "       [1., 0., 0.],\n",
       "       [1., 0., 0.],\n",
       "       [1., 0., 0.],\n",
       "       [1., 0., 0.],\n",
       "       [1., 0., 0.],\n",
       "       [0., 1., 0.],\n",
       "       [0., 1., 0.],\n",
       "       [0., 1., 0.],\n",
       "       [0., 1., 0.],\n",
       "       [0., 1., 0.],\n",
       "       [0., 1., 0.],\n",
       "       [0., 1., 0.],\n",
       "       [0., 1., 0.],\n",
       "       [0., 1., 0.],\n",
       "       [0., 1., 0.],\n",
       "       [0., 1., 0.],\n",
       "       [0., 1., 0.],\n",
       "       [0., 1., 0.],\n",
       "       [0., 1., 0.],\n",
       "       [0., 1., 0.],\n",
       "       [0., 1., 0.],\n",
       "       [0., 1., 0.],\n",
       "       [0., 1., 0.],\n",
       "       [0., 1., 0.],\n",
       "       [0., 1., 0.],\n",
       "       [0., 1., 0.],\n",
       "       [0., 1., 0.],\n",
       "       [0., 1., 0.],\n",
       "       [0., 1., 0.],\n",
       "       [0., 1., 0.],\n",
       "       [0., 1., 0.],\n",
       "       [0., 1., 0.],\n",
       "       [0., 1., 0.],\n",
       "       [0., 1., 0.],\n",
       "       [0., 1., 0.],\n",
       "       [0., 1., 0.],\n",
       "       [0., 1., 0.],\n",
       "       [0., 1., 0.],\n",
       "       [0., 1., 0.],\n",
       "       [0., 1., 0.],\n",
       "       [0., 1., 0.],\n",
       "       [0., 1., 0.],\n",
       "       [0., 1., 0.],\n",
       "       [0., 1., 0.],\n",
       "       [0., 1., 0.],\n",
       "       [0., 1., 0.],\n",
       "       [0., 1., 0.],\n",
       "       [0., 1., 0.],\n",
       "       [0., 1., 0.],\n",
       "       [0., 1., 0.],\n",
       "       [0., 1., 0.],\n",
       "       [0., 1., 0.],\n",
       "       [0., 1., 0.],\n",
       "       [0., 1., 0.],\n",
       "       [0., 1., 0.],\n",
       "       [0., 0., 1.],\n",
       "       [0., 0., 1.],\n",
       "       [0., 0., 1.],\n",
       "       [0., 0., 1.],\n",
       "       [0., 0., 1.],\n",
       "       [0., 0., 1.],\n",
       "       [0., 0., 1.],\n",
       "       [0., 0., 1.],\n",
       "       [0., 0., 1.],\n",
       "       [0., 0., 1.],\n",
       "       [0., 0., 1.],\n",
       "       [0., 0., 1.],\n",
       "       [0., 0., 1.],\n",
       "       [0., 0., 1.],\n",
       "       [0., 0., 1.],\n",
       "       [0., 0., 1.],\n",
       "       [0., 0., 1.],\n",
       "       [0., 0., 1.],\n",
       "       [0., 0., 1.],\n",
       "       [0., 0., 1.],\n",
       "       [0., 0., 1.],\n",
       "       [0., 0., 1.],\n",
       "       [0., 0., 1.],\n",
       "       [0., 0., 1.],\n",
       "       [0., 0., 1.],\n",
       "       [0., 0., 1.],\n",
       "       [0., 0., 1.],\n",
       "       [0., 0., 1.],\n",
       "       [0., 0., 1.],\n",
       "       [0., 0., 1.],\n",
       "       [0., 0., 1.],\n",
       "       [0., 0., 1.],\n",
       "       [0., 0., 1.],\n",
       "       [0., 0., 1.],\n",
       "       [0., 0., 1.],\n",
       "       [0., 0., 1.],\n",
       "       [0., 0., 1.],\n",
       "       [0., 0., 1.],\n",
       "       [0., 0., 1.],\n",
       "       [0., 0., 1.],\n",
       "       [0., 0., 1.],\n",
       "       [0., 0., 1.],\n",
       "       [0., 0., 1.],\n",
       "       [0., 0., 1.],\n",
       "       [0., 0., 1.],\n",
       "       [0., 0., 1.],\n",
       "       [0., 0., 1.],\n",
       "       [0., 0., 1.],\n",
       "       [0., 0., 1.],\n",
       "       [0., 0., 1.]], dtype=float32)"
      ]
     },
     "execution_count": 15,
     "metadata": {},
     "output_type": "execute_result"
    }
   ],
   "source": [
    "y"
   ]
  },
  {
   "cell_type": "code",
   "execution_count": 8,
   "id": "0455bbe0",
   "metadata": {},
   "outputs": [],
   "source": [
    "x_train, x_test, y_train, y_test = train_test_split(x, y, test_size=0.33, random_state=42)"
   ]
  },
  {
   "cell_type": "code",
   "execution_count": 10,
   "id": "abbd3c38",
   "metadata": {},
   "outputs": [
    {
     "data": {
      "text/html": [
       "<style>#sk-container-id-1 {color: black;}#sk-container-id-1 pre{padding: 0;}#sk-container-id-1 div.sk-toggleable {background-color: white;}#sk-container-id-1 label.sk-toggleable__label {cursor: pointer;display: block;width: 100%;margin-bottom: 0;padding: 0.3em;box-sizing: border-box;text-align: center;}#sk-container-id-1 label.sk-toggleable__label-arrow:before {content: \"▸\";float: left;margin-right: 0.25em;color: #696969;}#sk-container-id-1 label.sk-toggleable__label-arrow:hover:before {color: black;}#sk-container-id-1 div.sk-estimator:hover label.sk-toggleable__label-arrow:before {color: black;}#sk-container-id-1 div.sk-toggleable__content {max-height: 0;max-width: 0;overflow: hidden;text-align: left;background-color: #f0f8ff;}#sk-container-id-1 div.sk-toggleable__content pre {margin: 0.2em;color: black;border-radius: 0.25em;background-color: #f0f8ff;}#sk-container-id-1 input.sk-toggleable__control:checked~div.sk-toggleable__content {max-height: 200px;max-width: 100%;overflow: auto;}#sk-container-id-1 input.sk-toggleable__control:checked~label.sk-toggleable__label-arrow:before {content: \"▾\";}#sk-container-id-1 div.sk-estimator input.sk-toggleable__control:checked~label.sk-toggleable__label {background-color: #d4ebff;}#sk-container-id-1 div.sk-label input.sk-toggleable__control:checked~label.sk-toggleable__label {background-color: #d4ebff;}#sk-container-id-1 input.sk-hidden--visually {border: 0;clip: rect(1px 1px 1px 1px);clip: rect(1px, 1px, 1px, 1px);height: 1px;margin: -1px;overflow: hidden;padding: 0;position: absolute;width: 1px;}#sk-container-id-1 div.sk-estimator {font-family: monospace;background-color: #f0f8ff;border: 1px dotted black;border-radius: 0.25em;box-sizing: border-box;margin-bottom: 0.5em;}#sk-container-id-1 div.sk-estimator:hover {background-color: #d4ebff;}#sk-container-id-1 div.sk-parallel-item::after {content: \"\";width: 100%;border-bottom: 1px solid gray;flex-grow: 1;}#sk-container-id-1 div.sk-label:hover label.sk-toggleable__label {background-color: #d4ebff;}#sk-container-id-1 div.sk-serial::before {content: \"\";position: absolute;border-left: 1px solid gray;box-sizing: border-box;top: 0;bottom: 0;left: 50%;z-index: 0;}#sk-container-id-1 div.sk-serial {display: flex;flex-direction: column;align-items: center;background-color: white;padding-right: 0.2em;padding-left: 0.2em;position: relative;}#sk-container-id-1 div.sk-item {position: relative;z-index: 1;}#sk-container-id-1 div.sk-parallel {display: flex;align-items: stretch;justify-content: center;background-color: white;position: relative;}#sk-container-id-1 div.sk-item::before, #sk-container-id-1 div.sk-parallel-item::before {content: \"\";position: absolute;border-left: 1px solid gray;box-sizing: border-box;top: 0;bottom: 0;left: 50%;z-index: -1;}#sk-container-id-1 div.sk-parallel-item {display: flex;flex-direction: column;z-index: 1;position: relative;background-color: white;}#sk-container-id-1 div.sk-parallel-item:first-child::after {align-self: flex-end;width: 50%;}#sk-container-id-1 div.sk-parallel-item:last-child::after {align-self: flex-start;width: 50%;}#sk-container-id-1 div.sk-parallel-item:only-child::after {width: 0;}#sk-container-id-1 div.sk-dashed-wrapped {border: 1px dashed gray;margin: 0 0.4em 0.5em 0.4em;box-sizing: border-box;padding-bottom: 0.4em;background-color: white;}#sk-container-id-1 div.sk-label label {font-family: monospace;font-weight: bold;display: inline-block;line-height: 1.2em;}#sk-container-id-1 div.sk-label-container {text-align: center;}#sk-container-id-1 div.sk-container {/* jupyter's `normalize.less` sets `[hidden] { display: none; }` but bootstrap.min.css set `[hidden] { display: none !important; }` so we also need the `!important` here to be able to override the default hidden behavior on the sphinx rendered scikit-learn.org. See: https://github.com/scikit-learn/scikit-learn/issues/21755 */display: inline-block !important;position: relative;}#sk-container-id-1 div.sk-text-repr-fallback {display: none;}</style><div id=\"sk-container-id-1\" class=\"sk-top-container\"><div class=\"sk-text-repr-fallback\"><pre>MinMaxScaler()</pre><b>In a Jupyter environment, please rerun this cell to show the HTML representation or trust the notebook. <br />On GitHub, the HTML representation is unable to render, please try loading this page with nbviewer.org.</b></div><div class=\"sk-container\" hidden><div class=\"sk-item\"><div class=\"sk-estimator sk-toggleable\"><input class=\"sk-toggleable__control sk-hidden--visually\" id=\"sk-estimator-id-1\" type=\"checkbox\" checked><label for=\"sk-estimator-id-1\" class=\"sk-toggleable__label sk-toggleable__label-arrow\">MinMaxScaler</label><div class=\"sk-toggleable__content\"><pre>MinMaxScaler()</pre></div></div></div></div></div>"
      ],
      "text/plain": [
       "MinMaxScaler()"
      ]
     },
     "execution_count": 10,
     "metadata": {},
     "output_type": "execute_result"
    }
   ],
   "source": [
    "scaler_object = MinMaxScaler()\n",
    "scaler_object.fit(x_train)"
   ]
  },
  {
   "cell_type": "code",
   "execution_count": 11,
   "id": "b299212d",
   "metadata": {},
   "outputs": [],
   "source": [
    "scaled_X_train = scaler_object.transform(x_train)\n",
    "scaled_X_test = scaler_object.transform(x_test)"
   ]
  },
  {
   "cell_type": "code",
   "execution_count": 12,
   "id": "913f9a22",
   "metadata": {},
   "outputs": [],
   "source": [
    "model = Sequential()\n",
    "model.add(Dense(8, input_dim=4, activation='relu'))\n",
    "model.add(Dense(8, input_dim=4, activation='relu'))\n",
    "model.add(Dense(3, activation='softmax'))\n",
    "model.compile(loss='categorical_crossentropy', optimizer='adam', metrics=['accuracy'])"
   ]
  },
  {
   "cell_type": "code",
   "execution_count": 13,
   "id": "844de36f",
   "metadata": {},
   "outputs": [
    {
     "name": "stdout",
     "output_type": "stream",
     "text": [
      "Model: \"sequential\"\n",
      "_________________________________________________________________\n",
      " Layer (type)                Output Shape              Param #   \n",
      "=================================================================\n",
      " dense (Dense)               (None, 8)                 40        \n",
      "                                                                 \n",
      " dense_1 (Dense)             (None, 8)                 72        \n",
      "                                                                 \n",
      " dense_2 (Dense)             (None, 3)                 27        \n",
      "                                                                 \n",
      "=================================================================\n",
      "Total params: 139\n",
      "Trainable params: 139\n",
      "Non-trainable params: 0\n",
      "_________________________________________________________________\n"
     ]
    }
   ],
   "source": [
    "model.summary()"
   ]
  },
  {
   "cell_type": "code",
   "execution_count": 14,
   "id": "1d452c7d",
   "metadata": {},
   "outputs": [
    {
     "name": "stdout",
     "output_type": "stream",
     "text": [
      "Epoch 1/150\n",
      "4/4 - 2s - loss: 1.1118 - accuracy: 0.3500 - 2s/epoch - 527ms/step\n",
      "Epoch 2/150\n",
      "4/4 - 0s - loss: 1.1089 - accuracy: 0.3500 - 20ms/epoch - 5ms/step\n",
      "Epoch 3/150\n",
      "4/4 - 0s - loss: 1.1060 - accuracy: 0.3500 - 34ms/epoch - 9ms/step\n",
      "Epoch 4/150\n",
      "4/4 - 0s - loss: 1.1038 - accuracy: 0.3500 - 25ms/epoch - 6ms/step\n",
      "Epoch 5/150\n",
      "4/4 - 0s - loss: 1.1011 - accuracy: 0.3500 - 52ms/epoch - 13ms/step\n",
      "Epoch 6/150\n",
      "4/4 - 0s - loss: 1.0990 - accuracy: 0.3500 - 21ms/epoch - 5ms/step\n",
      "Epoch 7/150\n",
      "4/4 - 0s - loss: 1.0969 - accuracy: 0.3500 - 55ms/epoch - 14ms/step\n",
      "Epoch 8/150\n",
      "4/4 - 0s - loss: 1.0949 - accuracy: 0.3400 - 27ms/epoch - 7ms/step\n",
      "Epoch 9/150\n",
      "4/4 - 0s - loss: 1.0928 - accuracy: 0.3400 - 48ms/epoch - 12ms/step\n",
      "Epoch 10/150\n",
      "4/4 - 0s - loss: 1.0905 - accuracy: 0.3400 - 32ms/epoch - 8ms/step\n",
      "Epoch 11/150\n",
      "4/4 - 0s - loss: 1.0883 - accuracy: 0.3400 - 41ms/epoch - 10ms/step\n",
      "Epoch 12/150\n",
      "4/4 - 0s - loss: 1.0851 - accuracy: 0.3300 - 37ms/epoch - 9ms/step\n",
      "Epoch 13/150\n",
      "4/4 - 0s - loss: 1.0816 - accuracy: 0.3300 - 62ms/epoch - 15ms/step\n",
      "Epoch 14/150\n",
      "4/4 - 0s - loss: 1.0775 - accuracy: 0.3300 - 25ms/epoch - 6ms/step\n",
      "Epoch 15/150\n",
      "4/4 - 0s - loss: 1.0725 - accuracy: 0.3300 - 37ms/epoch - 9ms/step\n",
      "Epoch 16/150\n",
      "4/4 - 0s - loss: 1.0669 - accuracy: 0.3300 - 36ms/epoch - 9ms/step\n",
      "Epoch 17/150\n",
      "4/4 - 0s - loss: 1.0614 - accuracy: 0.3400 - 57ms/epoch - 14ms/step\n",
      "Epoch 18/150\n",
      "4/4 - 0s - loss: 1.0551 - accuracy: 0.3400 - 45ms/epoch - 11ms/step\n",
      "Epoch 19/150\n",
      "4/4 - 0s - loss: 1.0488 - accuracy: 0.3400 - 50ms/epoch - 13ms/step\n",
      "Epoch 20/150\n",
      "4/4 - 0s - loss: 1.0422 - accuracy: 0.3300 - 43ms/epoch - 11ms/step\n",
      "Epoch 21/150\n",
      "4/4 - 0s - loss: 1.0354 - accuracy: 0.3300 - 35ms/epoch - 9ms/step\n",
      "Epoch 22/150\n",
      "4/4 - 0s - loss: 1.0285 - accuracy: 0.3600 - 37ms/epoch - 9ms/step\n",
      "Epoch 23/150\n",
      "4/4 - 0s - loss: 1.0211 - accuracy: 0.3900 - 38ms/epoch - 9ms/step\n",
      "Epoch 24/150\n",
      "4/4 - 0s - loss: 1.0139 - accuracy: 0.4300 - 39ms/epoch - 10ms/step\n",
      "Epoch 25/150\n",
      "4/4 - 0s - loss: 1.0061 - accuracy: 0.3900 - 41ms/epoch - 10ms/step\n",
      "Epoch 26/150\n",
      "4/4 - 0s - loss: 0.9982 - accuracy: 0.3800 - 32ms/epoch - 8ms/step\n",
      "Epoch 27/150\n",
      "4/4 - 0s - loss: 0.9900 - accuracy: 0.3400 - 52ms/epoch - 13ms/step\n",
      "Epoch 28/150\n",
      "4/4 - 0s - loss: 0.9814 - accuracy: 0.3600 - 47ms/epoch - 12ms/step\n",
      "Epoch 29/150\n",
      "4/4 - 0s - loss: 0.9727 - accuracy: 0.3800 - 90ms/epoch - 22ms/step\n",
      "Epoch 30/150\n",
      "4/4 - 0s - loss: 0.9642 - accuracy: 0.3800 - 70ms/epoch - 18ms/step\n",
      "Epoch 31/150\n",
      "4/4 - 0s - loss: 0.9555 - accuracy: 0.4000 - 56ms/epoch - 14ms/step\n",
      "Epoch 32/150\n",
      "4/4 - 0s - loss: 0.9468 - accuracy: 0.4500 - 52ms/epoch - 13ms/step\n",
      "Epoch 33/150\n",
      "4/4 - 0s - loss: 0.9381 - accuracy: 0.4700 - 73ms/epoch - 18ms/step\n",
      "Epoch 34/150\n",
      "4/4 - 0s - loss: 0.9292 - accuracy: 0.5300 - 49ms/epoch - 12ms/step\n",
      "Epoch 35/150\n",
      "4/4 - 0s - loss: 0.9202 - accuracy: 0.5500 - 62ms/epoch - 16ms/step\n",
      "Epoch 36/150\n",
      "4/4 - 0s - loss: 0.9116 - accuracy: 0.5800 - 44ms/epoch - 11ms/step\n",
      "Epoch 37/150\n",
      "4/4 - 0s - loss: 0.9026 - accuracy: 0.6100 - 47ms/epoch - 12ms/step\n",
      "Epoch 38/150\n",
      "4/4 - 0s - loss: 0.8942 - accuracy: 0.6300 - 52ms/epoch - 13ms/step\n",
      "Epoch 39/150\n",
      "4/4 - 0s - loss: 0.8863 - accuracy: 0.6300 - 43ms/epoch - 11ms/step\n",
      "Epoch 40/150\n",
      "4/4 - 0s - loss: 0.8784 - accuracy: 0.6300 - 50ms/epoch - 13ms/step\n",
      "Epoch 41/150\n",
      "4/4 - 0s - loss: 0.8702 - accuracy: 0.6300 - 62ms/epoch - 15ms/step\n",
      "Epoch 42/150\n",
      "4/4 - 0s - loss: 0.8619 - accuracy: 0.6300 - 53ms/epoch - 13ms/step\n",
      "Epoch 43/150\n",
      "4/4 - 0s - loss: 0.8543 - accuracy: 0.6400 - 51ms/epoch - 13ms/step\n",
      "Epoch 44/150\n",
      "4/4 - 0s - loss: 0.8462 - accuracy: 0.6400 - 77ms/epoch - 19ms/step\n",
      "Epoch 45/150\n",
      "4/4 - 0s - loss: 0.8384 - accuracy: 0.6500 - 69ms/epoch - 17ms/step\n",
      "Epoch 46/150\n",
      "4/4 - 0s - loss: 0.8309 - accuracy: 0.6500 - 51ms/epoch - 13ms/step\n",
      "Epoch 47/150\n",
      "4/4 - 0s - loss: 0.8231 - accuracy: 0.6500 - 50ms/epoch - 12ms/step\n",
      "Epoch 48/150\n",
      "4/4 - 0s - loss: 0.8155 - accuracy: 0.6500 - 65ms/epoch - 16ms/step\n",
      "Epoch 49/150\n",
      "4/4 - 0s - loss: 0.8079 - accuracy: 0.6500 - 44ms/epoch - 11ms/step\n",
      "Epoch 50/150\n",
      "4/4 - 0s - loss: 0.8002 - accuracy: 0.6500 - 70ms/epoch - 18ms/step\n",
      "Epoch 51/150\n",
      "4/4 - 0s - loss: 0.7925 - accuracy: 0.6500 - 43ms/epoch - 11ms/step\n",
      "Epoch 52/150\n",
      "4/4 - 0s - loss: 0.7847 - accuracy: 0.6500 - 62ms/epoch - 16ms/step\n",
      "Epoch 53/150\n",
      "4/4 - 0s - loss: 0.7772 - accuracy: 0.6500 - 54ms/epoch - 13ms/step\n",
      "Epoch 54/150\n",
      "4/4 - 0s - loss: 0.7698 - accuracy: 0.6500 - 48ms/epoch - 12ms/step\n",
      "Epoch 55/150\n",
      "4/4 - 0s - loss: 0.7626 - accuracy: 0.6500 - 28ms/epoch - 7ms/step\n",
      "Epoch 56/150\n",
      "4/4 - 0s - loss: 0.7552 - accuracy: 0.6500 - 38ms/epoch - 9ms/step\n",
      "Epoch 57/150\n",
      "4/4 - 0s - loss: 0.7480 - accuracy: 0.6500 - 22ms/epoch - 5ms/step\n",
      "Epoch 58/150\n",
      "4/4 - 0s - loss: 0.7409 - accuracy: 0.6500 - 26ms/epoch - 7ms/step\n",
      "Epoch 59/150\n",
      "4/4 - 0s - loss: 0.7339 - accuracy: 0.6500 - 25ms/epoch - 6ms/step\n",
      "Epoch 60/150\n",
      "4/4 - 0s - loss: 0.7275 - accuracy: 0.6500 - 19ms/epoch - 5ms/step\n",
      "Epoch 61/150\n",
      "4/4 - 0s - loss: 0.7205 - accuracy: 0.6500 - 27ms/epoch - 7ms/step\n",
      "Epoch 62/150\n",
      "4/4 - 0s - loss: 0.7139 - accuracy: 0.6500 - 23ms/epoch - 6ms/step\n",
      "Epoch 63/150\n",
      "4/4 - 0s - loss: 0.7076 - accuracy: 0.6600 - 18ms/epoch - 5ms/step\n",
      "Epoch 64/150\n",
      "4/4 - 0s - loss: 0.7012 - accuracy: 0.6700 - 28ms/epoch - 7ms/step\n",
      "Epoch 65/150\n",
      "4/4 - 0s - loss: 0.6949 - accuracy: 0.6700 - 20ms/epoch - 5ms/step\n",
      "Epoch 66/150\n",
      "4/4 - 0s - loss: 0.6884 - accuracy: 0.6700 - 23ms/epoch - 6ms/step\n",
      "Epoch 67/150\n",
      "4/4 - 0s - loss: 0.6821 - accuracy: 0.6700 - 31ms/epoch - 8ms/step\n",
      "Epoch 68/150\n",
      "4/4 - 0s - loss: 0.6758 - accuracy: 0.6800 - 37ms/epoch - 9ms/step\n",
      "Epoch 69/150\n",
      "4/4 - 0s - loss: 0.6700 - accuracy: 0.6900 - 43ms/epoch - 11ms/step\n",
      "Epoch 70/150\n",
      "4/4 - 0s - loss: 0.6637 - accuracy: 0.7100 - 20ms/epoch - 5ms/step\n",
      "Epoch 71/150\n",
      "4/4 - 0s - loss: 0.6578 - accuracy: 0.7100 - 23ms/epoch - 6ms/step\n",
      "Epoch 72/150\n",
      "4/4 - 0s - loss: 0.6521 - accuracy: 0.7300 - 27ms/epoch - 7ms/step\n",
      "Epoch 73/150\n",
      "4/4 - 0s - loss: 0.6457 - accuracy: 0.7500 - 36ms/epoch - 9ms/step\n",
      "Epoch 74/150\n",
      "4/4 - 0s - loss: 0.6392 - accuracy: 0.7400 - 47ms/epoch - 12ms/step\n",
      "Epoch 75/150\n",
      "4/4 - 0s - loss: 0.6335 - accuracy: 0.7500 - 48ms/epoch - 12ms/step\n",
      "Epoch 76/150\n",
      "4/4 - 0s - loss: 0.6276 - accuracy: 0.7600 - 37ms/epoch - 9ms/step\n",
      "Epoch 77/150\n",
      "4/4 - 0s - loss: 0.6218 - accuracy: 0.7400 - 36ms/epoch - 9ms/step\n",
      "Epoch 78/150\n",
      "4/4 - 0s - loss: 0.6160 - accuracy: 0.7000 - 20ms/epoch - 5ms/step\n",
      "Epoch 79/150\n",
      "4/4 - 0s - loss: 0.6105 - accuracy: 0.6900 - 15ms/epoch - 4ms/step\n",
      "Epoch 80/150\n",
      "4/4 - 0s - loss: 0.6051 - accuracy: 0.6800 - 19ms/epoch - 5ms/step\n",
      "Epoch 81/150\n",
      "4/4 - 0s - loss: 0.5994 - accuracy: 0.7100 - 20ms/epoch - 5ms/step\n",
      "Epoch 82/150\n",
      "4/4 - 0s - loss: 0.5949 - accuracy: 0.7500 - 24ms/epoch - 6ms/step\n",
      "Epoch 83/150\n",
      "4/4 - 0s - loss: 0.5891 - accuracy: 0.8000 - 17ms/epoch - 4ms/step\n",
      "Epoch 84/150\n",
      "4/4 - 0s - loss: 0.5840 - accuracy: 0.8200 - 23ms/epoch - 6ms/step\n",
      "Epoch 85/150\n",
      "4/4 - 0s - loss: 0.5790 - accuracy: 0.8400 - 24ms/epoch - 6ms/step\n",
      "Epoch 86/150\n",
      "4/4 - 0s - loss: 0.5743 - accuracy: 0.8600 - 28ms/epoch - 7ms/step\n",
      "Epoch 87/150\n",
      "4/4 - 0s - loss: 0.5694 - accuracy: 0.8600 - 29ms/epoch - 7ms/step\n",
      "Epoch 88/150\n",
      "4/4 - 0s - loss: 0.5640 - accuracy: 0.8400 - 58ms/epoch - 14ms/step\n",
      "Epoch 89/150\n",
      "4/4 - 0s - loss: 0.5592 - accuracy: 0.8100 - 59ms/epoch - 15ms/step\n",
      "Epoch 90/150\n",
      "4/4 - 0s - loss: 0.5544 - accuracy: 0.8000 - 38ms/epoch - 9ms/step\n",
      "Epoch 91/150\n",
      "4/4 - 0s - loss: 0.5495 - accuracy: 0.7900 - 46ms/epoch - 11ms/step\n",
      "Epoch 92/150\n",
      "4/4 - 0s - loss: 0.5451 - accuracy: 0.7800 - 28ms/epoch - 7ms/step\n",
      "Epoch 93/150\n",
      "4/4 - 0s - loss: 0.5405 - accuracy: 0.7700 - 51ms/epoch - 13ms/step\n",
      "Epoch 94/150\n",
      "4/4 - 0s - loss: 0.5357 - accuracy: 0.7900 - 32ms/epoch - 8ms/step\n",
      "Epoch 95/150\n",
      "4/4 - 0s - loss: 0.5309 - accuracy: 0.8000 - 40ms/epoch - 10ms/step\n",
      "Epoch 96/150\n",
      "4/4 - 0s - loss: 0.5262 - accuracy: 0.8300 - 29ms/epoch - 7ms/step\n",
      "Epoch 97/150\n",
      "4/4 - 0s - loss: 0.5221 - accuracy: 0.8500 - 38ms/epoch - 10ms/step\n",
      "Epoch 98/150\n",
      "4/4 - 0s - loss: 0.5180 - accuracy: 0.8500 - 42ms/epoch - 11ms/step\n",
      "Epoch 99/150\n",
      "4/4 - 0s - loss: 0.5136 - accuracy: 0.8400 - 53ms/epoch - 13ms/step\n",
      "Epoch 100/150\n",
      "4/4 - 0s - loss: 0.5092 - accuracy: 0.8400 - 37ms/epoch - 9ms/step\n",
      "Epoch 101/150\n",
      "4/4 - 0s - loss: 0.5049 - accuracy: 0.8200 - 53ms/epoch - 13ms/step\n",
      "Epoch 102/150\n",
      "4/4 - 0s - loss: 0.5012 - accuracy: 0.8000 - 34ms/epoch - 8ms/step\n"
     ]
    },
    {
     "name": "stdout",
     "output_type": "stream",
     "text": [
      "Epoch 103/150\n",
      "4/4 - 0s - loss: 0.4993 - accuracy: 0.7300 - 37ms/epoch - 9ms/step\n",
      "Epoch 104/150\n",
      "4/4 - 0s - loss: 0.4961 - accuracy: 0.7300 - 37ms/epoch - 9ms/step\n",
      "Epoch 105/150\n",
      "4/4 - 0s - loss: 0.4919 - accuracy: 0.7300 - 32ms/epoch - 8ms/step\n",
      "Epoch 106/150\n",
      "4/4 - 0s - loss: 0.4880 - accuracy: 0.7600 - 35ms/epoch - 9ms/step\n",
      "Epoch 107/150\n",
      "4/4 - 0s - loss: 0.4837 - accuracy: 0.8100 - 41ms/epoch - 10ms/step\n",
      "Epoch 108/150\n",
      "4/4 - 0s - loss: 0.4785 - accuracy: 0.8200 - 26ms/epoch - 6ms/step\n",
      "Epoch 109/150\n",
      "4/4 - 0s - loss: 0.4746 - accuracy: 0.8500 - 39ms/epoch - 10ms/step\n",
      "Epoch 110/150\n",
      "4/4 - 0s - loss: 0.4711 - accuracy: 0.9000 - 27ms/epoch - 7ms/step\n",
      "Epoch 111/150\n",
      "4/4 - 0s - loss: 0.4672 - accuracy: 0.9000 - 22ms/epoch - 5ms/step\n",
      "Epoch 112/150\n",
      "4/4 - 0s - loss: 0.4632 - accuracy: 0.8900 - 41ms/epoch - 10ms/step\n",
      "Epoch 113/150\n",
      "4/4 - 0s - loss: 0.4592 - accuracy: 0.8800 - 25ms/epoch - 6ms/step\n",
      "Epoch 114/150\n",
      "4/4 - 0s - loss: 0.4555 - accuracy: 0.8800 - 31ms/epoch - 8ms/step\n",
      "Epoch 115/150\n",
      "4/4 - 0s - loss: 0.4518 - accuracy: 0.8700 - 36ms/epoch - 9ms/step\n",
      "Epoch 116/150\n",
      "4/4 - 0s - loss: 0.4480 - accuracy: 0.8800 - 27ms/epoch - 7ms/step\n",
      "Epoch 117/150\n",
      "4/4 - 0s - loss: 0.4442 - accuracy: 0.8900 - 29ms/epoch - 7ms/step\n",
      "Epoch 118/150\n",
      "4/4 - 0s - loss: 0.4407 - accuracy: 0.8900 - 30ms/epoch - 7ms/step\n",
      "Epoch 119/150\n",
      "4/4 - 0s - loss: 0.4375 - accuracy: 0.8900 - 24ms/epoch - 6ms/step\n",
      "Epoch 120/150\n",
      "4/4 - 0s - loss: 0.4337 - accuracy: 0.8900 - 25ms/epoch - 6ms/step\n",
      "Epoch 121/150\n",
      "4/4 - 0s - loss: 0.4306 - accuracy: 0.8600 - 26ms/epoch - 6ms/step\n",
      "Epoch 122/150\n",
      "4/4 - 0s - loss: 0.4279 - accuracy: 0.8700 - 22ms/epoch - 5ms/step\n",
      "Epoch 123/150\n",
      "4/4 - 0s - loss: 0.4241 - accuracy: 0.8900 - 35ms/epoch - 9ms/step\n",
      "Epoch 124/150\n",
      "4/4 - 0s - loss: 0.4209 - accuracy: 0.8900 - 23ms/epoch - 6ms/step\n",
      "Epoch 125/150\n",
      "4/4 - 0s - loss: 0.4178 - accuracy: 0.9100 - 26ms/epoch - 6ms/step\n",
      "Epoch 126/150\n",
      "4/4 - 0s - loss: 0.4147 - accuracy: 0.9100 - 19ms/epoch - 5ms/step\n",
      "Epoch 127/150\n",
      "4/4 - 0s - loss: 0.4117 - accuracy: 0.8900 - 24ms/epoch - 6ms/step\n",
      "Epoch 128/150\n",
      "4/4 - 0s - loss: 0.4097 - accuracy: 0.8700 - 23ms/epoch - 6ms/step\n",
      "Epoch 129/150\n",
      "4/4 - 0s - loss: 0.4076 - accuracy: 0.8700 - 21ms/epoch - 5ms/step\n",
      "Epoch 130/150\n",
      "4/4 - 0s - loss: 0.4031 - accuracy: 0.9100 - 27ms/epoch - 7ms/step\n",
      "Epoch 131/150\n",
      "4/4 - 0s - loss: 0.4004 - accuracy: 0.9300 - 23ms/epoch - 6ms/step\n",
      "Epoch 132/150\n",
      "4/4 - 0s - loss: 0.3978 - accuracy: 0.9500 - 40ms/epoch - 10ms/step\n",
      "Epoch 133/150\n",
      "4/4 - 0s - loss: 0.3958 - accuracy: 0.9600 - 17ms/epoch - 4ms/step\n",
      "Epoch 134/150\n",
      "4/4 - 0s - loss: 0.3932 - accuracy: 0.9600 - 31ms/epoch - 8ms/step\n",
      "Epoch 135/150\n",
      "4/4 - 0s - loss: 0.3903 - accuracy: 0.9600 - 29ms/epoch - 7ms/step\n",
      "Epoch 136/150\n",
      "4/4 - 0s - loss: 0.3871 - accuracy: 0.9300 - 31ms/epoch - 8ms/step\n",
      "Epoch 137/150\n",
      "4/4 - 0s - loss: 0.3851 - accuracy: 0.9200 - 24ms/epoch - 6ms/step\n",
      "Epoch 138/150\n",
      "4/4 - 0s - loss: 0.3841 - accuracy: 0.8900 - 29ms/epoch - 7ms/step\n",
      "Epoch 139/150\n",
      "4/4 - 0s - loss: 0.3839 - accuracy: 0.8500 - 27ms/epoch - 7ms/step\n",
      "Epoch 140/150\n",
      "4/4 - 0s - loss: 0.3830 - accuracy: 0.8400 - 37ms/epoch - 9ms/step\n",
      "Epoch 141/150\n",
      "4/4 - 0s - loss: 0.3795 - accuracy: 0.8500 - 25ms/epoch - 6ms/step\n",
      "Epoch 142/150\n",
      "4/4 - 0s - loss: 0.3759 - accuracy: 0.9100 - 36ms/epoch - 9ms/step\n",
      "Epoch 143/150\n",
      "4/4 - 0s - loss: 0.3716 - accuracy: 0.9300 - 26ms/epoch - 7ms/step\n",
      "Epoch 144/150\n",
      "4/4 - 0s - loss: 0.3689 - accuracy: 0.9300 - 25ms/epoch - 6ms/step\n",
      "Epoch 145/150\n",
      "4/4 - 0s - loss: 0.3666 - accuracy: 0.9500 - 32ms/epoch - 8ms/step\n",
      "Epoch 146/150\n",
      "4/4 - 0s - loss: 0.3644 - accuracy: 0.9600 - 27ms/epoch - 7ms/step\n",
      "Epoch 147/150\n",
      "4/4 - 0s - loss: 0.3621 - accuracy: 0.9600 - 33ms/epoch - 8ms/step\n",
      "Epoch 148/150\n",
      "4/4 - 0s - loss: 0.3602 - accuracy: 0.9400 - 28ms/epoch - 7ms/step\n",
      "Epoch 149/150\n",
      "4/4 - 0s - loss: 0.3578 - accuracy: 0.9400 - 29ms/epoch - 7ms/step\n",
      "Epoch 150/150\n",
      "4/4 - 0s - loss: 0.3556 - accuracy: 0.9500 - 26ms/epoch - 6ms/step\n"
     ]
    },
    {
     "data": {
      "text/plain": [
       "<keras.callbacks.History at 0x1ce7d52c810>"
      ]
     },
     "execution_count": 14,
     "metadata": {},
     "output_type": "execute_result"
    }
   ],
   "source": [
    "model.fit(scaled_X_train,y_train,epochs=150, verbose=2)"
   ]
  },
  {
   "cell_type": "code",
   "execution_count": 16,
   "id": "3acef86f",
   "metadata": {},
   "outputs": [
    {
     "name": "stdout",
     "output_type": "stream",
     "text": [
      "2/2 [==============================] - 0s 3ms/step\n"
     ]
    }
   ],
   "source": [
    "#model.predict_classes(scaled_X_test)\n",
    "predictions=np.argmax(model.predict(scaled_X_test),axis=1)"
   ]
  },
  {
   "cell_type": "code",
   "execution_count": 17,
   "id": "f0363f4a",
   "metadata": {
    "scrolled": true
   },
   "outputs": [
    {
     "data": {
      "text/plain": [
       "array([1, 0, 2, 1, 1, 0, 1, 2, 1, 1, 2, 0, 0, 0, 0, 1, 2, 1, 1, 2, 0, 2,\n",
       "       0, 2, 2, 2, 2, 2, 0, 0, 0, 0, 1, 0, 0, 2, 1, 0, 0, 0, 2, 1, 1, 0,\n",
       "       0, 1, 2, 2, 1, 2], dtype=int64)"
      ]
     },
     "execution_count": 17,
     "metadata": {},
     "output_type": "execute_result"
    }
   ],
   "source": [
    "y_test.argmax(axis=1)"
   ]
  },
  {
   "cell_type": "code",
   "execution_count": 18,
   "id": "49ee40fd",
   "metadata": {},
   "outputs": [
    {
     "name": "stdout",
     "output_type": "stream",
     "text": [
      "0.96\n"
     ]
    }
   ],
   "source": [
    "print(accuracy_score(y_test.argmax(axis=1),predictions))"
   ]
  },
  {
   "cell_type": "code",
   "execution_count": 24,
   "id": "1bb95a15",
   "metadata": {},
   "outputs": [],
   "source": [
    "model.save('myfirstmodel.h5')"
   ]
  },
  {
   "cell_type": "code",
   "execution_count": 19,
   "id": "0524490f",
   "metadata": {},
   "outputs": [],
   "source": [
    "newmodel = load_model('myfirstmodel.h5')"
   ]
  },
  {
   "cell_type": "code",
   "execution_count": 20,
   "id": "680471ba",
   "metadata": {},
   "outputs": [
    {
     "name": "stdout",
     "output_type": "stream",
     "text": [
      "2/2 [==============================] - 0s 3ms/step\n"
     ]
    }
   ],
   "source": [
    "predictions=np.argmax(newmodel.predict(scaled_X_test),axis=1)"
   ]
  },
  {
   "cell_type": "code",
   "execution_count": 21,
   "id": "51343e94",
   "metadata": {},
   "outputs": [
    {
     "data": {
      "text/plain": [
       "array([1, 0, 2, 2, 2, 0, 1, 2, 2, 1, 2, 0, 0, 0, 0, 1, 2, 1, 1, 2, 0, 2,\n",
       "       0, 2, 2, 2, 2, 2, 0, 0, 0, 0, 1, 0, 0, 2, 1, 0, 0, 0, 2, 1, 1, 0,\n",
       "       0, 1, 2, 2, 1, 2], dtype=int64)"
      ]
     },
     "execution_count": 21,
     "metadata": {},
     "output_type": "execute_result"
    }
   ],
   "source": [
    "predictions"
   ]
  },
  {
   "cell_type": "code",
   "execution_count": 23,
   "id": "60018be5",
   "metadata": {},
   "outputs": [],
   "source": [
    "reverse_mapping={0:'Iris-setosa',1:'Iris-versicolor',2:'Iris-virginica'}"
   ]
  },
  {
   "cell_type": "code",
   "execution_count": 24,
   "id": "c6e5816a",
   "metadata": {},
   "outputs": [],
   "source": [
    "classification=[]\n",
    "for ele in predictions:\n",
    "    classification.append(reverse_mapping[ele])"
   ]
  },
  {
   "cell_type": "code",
   "execution_count": 25,
   "id": "540dcd69",
   "metadata": {},
   "outputs": [
    {
     "name": "stdout",
     "output_type": "stream",
     "text": [
      "['Iris-versicolor', 'Iris-setosa', 'Iris-virginica', 'Iris-virginica', 'Iris-virginica', 'Iris-setosa', 'Iris-versicolor', 'Iris-virginica', 'Iris-virginica', 'Iris-versicolor', 'Iris-virginica', 'Iris-setosa', 'Iris-setosa', 'Iris-setosa', 'Iris-setosa', 'Iris-versicolor', 'Iris-virginica', 'Iris-versicolor', 'Iris-versicolor', 'Iris-virginica', 'Iris-setosa', 'Iris-virginica', 'Iris-setosa', 'Iris-virginica', 'Iris-virginica', 'Iris-virginica', 'Iris-virginica', 'Iris-virginica', 'Iris-setosa', 'Iris-setosa', 'Iris-setosa', 'Iris-setosa', 'Iris-versicolor', 'Iris-setosa', 'Iris-setosa', 'Iris-virginica', 'Iris-versicolor', 'Iris-setosa', 'Iris-setosa', 'Iris-setosa', 'Iris-virginica', 'Iris-versicolor', 'Iris-versicolor', 'Iris-setosa', 'Iris-setosa', 'Iris-versicolor', 'Iris-virginica', 'Iris-virginica', 'Iris-versicolor', 'Iris-virginica']\n"
     ]
    }
   ],
   "source": [
    "print(classification)"
   ]
  },
  {
   "cell_type": "code",
   "execution_count": null,
   "id": "b2c78bdd",
   "metadata": {},
   "outputs": [],
   "source": []
  }
 ],
 "metadata": {
  "kernelspec": {
   "display_name": "Python 3 (ipykernel)",
   "language": "python",
   "name": "python3"
  },
  "language_info": {
   "codemirror_mode": {
    "name": "ipython",
    "version": 3
   },
   "file_extension": ".py",
   "mimetype": "text/x-python",
   "name": "python",
   "nbconvert_exporter": "python",
   "pygments_lexer": "ipython3",
   "version": "3.11.5"
  }
 },
 "nbformat": 4,
 "nbformat_minor": 5
}
